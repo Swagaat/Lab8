{
  "nbformat": 4,
  "nbformat_minor": 0,
  "metadata": {
    "colab": {
      "provenance": [],
      "authorship_tag": "ABX9TyPiPLw4Bo0qomCA5URaKE2b",
      "include_colab_link": true
    },
    "kernelspec": {
      "name": "python3",
      "display_name": "Python 3"
    },
    "language_info": {
      "name": "python"
    }
  },
  "cells": [
    {
      "cell_type": "markdown",
      "metadata": {
        "id": "view-in-github",
        "colab_type": "text"
      },
      "source": [
        "<a href=\"https://colab.research.google.com/github/Swagaat/Lab8/blob/main/Lab8.ipynb\" target=\"_parent\"><img src=\"https://colab.research.google.com/assets/colab-badge.svg\" alt=\"Open In Colab\"/></a>"
      ]
    },
    {
      "cell_type": "code",
      "execution_count": 3,
      "metadata": {
        "colab": {
          "base_uri": "https://localhost:8080/"
        },
        "id": "SQDEWzj4IDEP",
        "outputId": "a1e180af-51bf-42de-ccc9-667bbe747c86"
      },
      "outputs": [
        {
          "output_type": "stream",
          "name": "stdout",
          "text": [
            "Please Enter the Radius of the Sphere: 10\n",
            "The volume of the sphere is: 4188.790204786391\n",
            "The surface area of the sphere is: 1256.6370614359173\n"
          ]
        }
      ],
      "source": [
        "import math\n",
        "class Spheres():\n",
        "    def __init__(self, radius):\n",
        "        self.r = radius\n",
        "\n",
        "    def surfaceArea(self):\n",
        "           return 4*math.pi*(self.r**2)\n",
        "\n",
        "    def Volume(self):\n",
        "        return (4/3)*math.pi* (self.r**3)\n",
        "\n",
        "r = eval(input(\"Please Enter the Radius of the Sphere: \"))\n",
        "s = Spheres(r)\n",
        "print(f\"The volume of the sphere is: {s.Volume()}\")\n",
        "print(f\"The surface area of the sphere is: {s.surfaceArea()}\")\n"
      ]
    },
    {
      "cell_type": "code",
      "source": [
        "class Card:\n",
        "\n",
        "    def __init__(self, rank, suit):\n",
        "        self.rank = rank\n",
        "        self.suit = suit\n",
        "        self.ranks = [None, \"Ace\", 2, 3, 4, 5, 6, 7, 8, 9, 10, \"Jack\", \"Queen\", \"King\"]\n",
        "        self.suits = {\"d\": \"Diamonds\",\n",
        "                   \"c\": \"Clubs\",\n",
        "                   \"h\": \"Hearts\",\n",
        "                   \"s\": \"Spades\"}\n",
        "\n",
        "    def getRank(self):\n",
        "        \"\"\"returns the rank of the card\"\"\"\n",
        "        return self.rank\n",
        "\n",
        "    def getSuit(self):\n",
        "\n",
        "        return self.suits.get(self.suit)\n",
        "\n",
        "    def bjValue(self):\n",
        "\n",
        "        if self.rank > 1 or self.rank < 11:\n",
        "            self.value = self.rank\n",
        "\n",
        "        elif self.rank == \"Ace\":\n",
        "            self.value = 1\n",
        "\n",
        "        elif self.rank == \"Jack\" or self.ranks == \"Queen\" or self.ranks == \"King\":\n",
        "            self.value = 10\n",
        "\n",
        "\n",
        "        return self.value\n",
        "\n",
        "\n",
        "    def __str__(self):\n",
        "\n",
        "        return \"%s of %s\" % (self.ranks[self.rank], self.suits.get(self.suit))\n",
        "\n",
        "c1 = Card(1,\"s\")\n",
        "print(c1) #expect Ace of Spades"
      ],
      "metadata": {
        "colab": {
          "base_uri": "https://localhost:8080/"
        },
        "id": "ZiQ66USaIf7G",
        "outputId": "08b3ba83-910f-4fb9-ebb9-42a46986a3dc"
      },
      "execution_count": 1,
      "outputs": [
        {
          "output_type": "stream",
          "name": "stdout",
          "text": [
            "Ace of Spades\n"
          ]
        }
      ]
    }
  ]
}